{
 "cells": [
  {
   "cell_type": "markdown",
   "id": "59b65667",
   "metadata": {},
   "source": [
    "<h1><center>Cardiovascular Disease, Prediction</center></h1>"
   ]
  },
  {
   "cell_type": "markdown",
   "id": "4555259d",
   "metadata": {},
   "source": [
    "Heart attack is the second cause of disability in the world. CVD is rapidly increasing day by day, as stated by WHO. Cardiovascular-related problems cause 31% of worldwide deaths. Thus, it's increasingly necessary to be able to identify health habits and symptoms that contribute to heart attacks.\n",
    "\n",
    "The objective of preparing this notebook is to build a machine learning model that can predict whether or not a patient has heart disease?\n",
    "\n",
    "We're going to utlize the following workflow:\n",
    "\n",
    "1. Problem definition\n",
    "2. Data\n",
    "3. Importing Dataset & Libraries\n",
    "4. Data Preprocessing & Cleaning\n",
    "5. Data Visualizations & Insights"
   ]
  },
  {
   "cell_type": "markdown",
   "id": "0b738938",
   "metadata": {},
   "source": [
    "<center><img src='https://i.pinimg.com/originals/87/45/76/874576ebe081d0b3cc15c1a519dcb6c1.gif'></center>"
   ]
  },
  {
   "cell_type": "markdown",
   "id": "87bd8355",
   "metadata": {},
   "source": [
    "## 1. Problme Statement"
   ]
  },
  {
   "cell_type": "markdown",
   "id": "1285c211",
   "metadata": {},
   "source": [
    "In a statement,\n",
    "\n",
    "> Given clinical parameters about a patient, can we predict whether or not they have heart disease?"
   ]
  },
  {
   "cell_type": "markdown",
   "id": "551fdb81",
   "metadata": {},
   "source": [
    "## 2. Data"
   ]
  },
  {
   "cell_type": "markdown",
   "id": "3004b934",
   "metadata": {},
   "source": [
    "This dataset was created by combining different datasets already available independently but not combined before. In this dataset, 5 heart datasets are combined over 11 common features by IEEE scholars which makes it the largest heart disease dataset available so far for research purposes. The five datasets used for its curation are:\n",
    "\n",
    "- Cleveland: 303 observations\n",
    "- Hungarian: 294 observations\n",
    "- Switzerland: 123 observations\n",
    "- Long Beach VA: 200 observations\n",
    "- Stalog (Heart) Data Set: 270 observations\n",
    "\n",
    "The Dataset Can be accessed directly from IEEE Datasets. <br>\n",
    "https://ieee-dataport.org/open-access/heart-disease-dataset-comprehensive#files"
   ]
  },
  {
   "cell_type": "markdown",
   "id": "889f33ad",
   "metadata": {},
   "source": [
    "## 3. Importing Dataset & Libraries "
   ]
  },
  {
   "cell_type": "code",
   "execution_count": 65,
   "id": "db614334",
   "metadata": {},
   "outputs": [],
   "source": [
    "import pandas as pd\n",
    "import numpy as np\n",
    "import seaborn as sns\n",
    "import matplotlib as mpl\n",
    "import matplotlib.pyplot as plt\n",
    "import random"
   ]
  },
  {
   "cell_type": "code",
   "execution_count": 72,
   "id": "d8c3690e",
   "metadata": {},
   "outputs": [],
   "source": [
    "from sklearn.neighbors import KNeighborsClassifier\n",
    "from sklearn.preprocessing import StandardScaler , MinMaxScaler\n",
    "from sklearn.model_selection import train_test_split\n",
    "from sklearn.linear_model import LogisticRegression\n",
    "from sklearn.metrics import classification_report , confusion_matrix\n",
    "from sklearn.preprocessing import PowerTransformer"
   ]
  },
  {
   "cell_type": "code",
   "execution_count": 4,
   "id": "729cf934",
   "metadata": {},
   "outputs": [],
   "source": [
    "import warnings\n",
    "warnings.filterwarnings('ignore')"
   ]
  },
  {
   "cell_type": "code",
   "execution_count": 5,
   "id": "d9d35bee",
   "metadata": {},
   "outputs": [],
   "source": [
    "# we want our visualization to appear inside the notebook\n",
    "%matplotlib inline"
   ]
  },
  {
   "cell_type": "code",
   "execution_count": 7,
   "id": "edfed7e6",
   "metadata": {},
   "outputs": [],
   "source": [
    "#Dataset \n",
    "heartDf = pd.read_csv(\"..\\Data analysis - EDA\\cardiovascular disease.csv\")"
   ]
  },
  {
   "cell_type": "code",
   "execution_count": 9,
   "id": "9fe10201",
   "metadata": {},
   "outputs": [
    {
     "data": {
      "text/html": [
       "<div>\n",
       "<style scoped>\n",
       "    .dataframe tbody tr th:only-of-type {\n",
       "        vertical-align: middle;\n",
       "    }\n",
       "\n",
       "    .dataframe tbody tr th {\n",
       "        vertical-align: top;\n",
       "    }\n",
       "\n",
       "    .dataframe thead th {\n",
       "        text-align: right;\n",
       "    }\n",
       "</style>\n",
       "<table border=\"1\" class=\"dataframe\">\n",
       "  <thead>\n",
       "    <tr style=\"text-align: right;\">\n",
       "      <th></th>\n",
       "      <th>Age</th>\n",
       "      <th>Sex</th>\n",
       "      <th>ChestPainType</th>\n",
       "      <th>RestingBP</th>\n",
       "      <th>Cholesterol</th>\n",
       "      <th>FastingBS</th>\n",
       "      <th>RestingECG</th>\n",
       "      <th>MaxHR</th>\n",
       "      <th>ExerciseAngina</th>\n",
       "      <th>Oldpeak</th>\n",
       "      <th>ST_Slope</th>\n",
       "      <th>HeartDisease</th>\n",
       "    </tr>\n",
       "  </thead>\n",
       "  <tbody>\n",
       "    <tr>\n",
       "      <th>0</th>\n",
       "      <td>40</td>\n",
       "      <td>M</td>\n",
       "      <td>ATA</td>\n",
       "      <td>140</td>\n",
       "      <td>289</td>\n",
       "      <td>0</td>\n",
       "      <td>Normal</td>\n",
       "      <td>172</td>\n",
       "      <td>N</td>\n",
       "      <td>0.0</td>\n",
       "      <td>Up</td>\n",
       "      <td>0</td>\n",
       "    </tr>\n",
       "    <tr>\n",
       "      <th>1</th>\n",
       "      <td>49</td>\n",
       "      <td>F</td>\n",
       "      <td>NAP</td>\n",
       "      <td>160</td>\n",
       "      <td>180</td>\n",
       "      <td>0</td>\n",
       "      <td>Normal</td>\n",
       "      <td>156</td>\n",
       "      <td>N</td>\n",
       "      <td>1.0</td>\n",
       "      <td>Flat</td>\n",
       "      <td>1</td>\n",
       "    </tr>\n",
       "    <tr>\n",
       "      <th>2</th>\n",
       "      <td>37</td>\n",
       "      <td>M</td>\n",
       "      <td>ATA</td>\n",
       "      <td>130</td>\n",
       "      <td>283</td>\n",
       "      <td>0</td>\n",
       "      <td>ST</td>\n",
       "      <td>98</td>\n",
       "      <td>N</td>\n",
       "      <td>0.0</td>\n",
       "      <td>Up</td>\n",
       "      <td>0</td>\n",
       "    </tr>\n",
       "    <tr>\n",
       "      <th>3</th>\n",
       "      <td>48</td>\n",
       "      <td>F</td>\n",
       "      <td>ASY</td>\n",
       "      <td>138</td>\n",
       "      <td>214</td>\n",
       "      <td>0</td>\n",
       "      <td>Normal</td>\n",
       "      <td>108</td>\n",
       "      <td>Y</td>\n",
       "      <td>1.5</td>\n",
       "      <td>Flat</td>\n",
       "      <td>1</td>\n",
       "    </tr>\n",
       "    <tr>\n",
       "      <th>4</th>\n",
       "      <td>54</td>\n",
       "      <td>M</td>\n",
       "      <td>NAP</td>\n",
       "      <td>150</td>\n",
       "      <td>195</td>\n",
       "      <td>0</td>\n",
       "      <td>Normal</td>\n",
       "      <td>122</td>\n",
       "      <td>N</td>\n",
       "      <td>0.0</td>\n",
       "      <td>Up</td>\n",
       "      <td>0</td>\n",
       "    </tr>\n",
       "  </tbody>\n",
       "</table>\n",
       "</div>"
      ],
      "text/plain": [
       "   Age Sex ChestPainType  RestingBP  Cholesterol  FastingBS RestingECG  MaxHR  \\\n",
       "0   40   M           ATA        140          289          0     Normal    172   \n",
       "1   49   F           NAP        160          180          0     Normal    156   \n",
       "2   37   M           ATA        130          283          0         ST     98   \n",
       "3   48   F           ASY        138          214          0     Normal    108   \n",
       "4   54   M           NAP        150          195          0     Normal    122   \n",
       "\n",
       "  ExerciseAngina  Oldpeak ST_Slope  HeartDisease  \n",
       "0              N      0.0       Up             0  \n",
       "1              N      1.0     Flat             1  \n",
       "2              N      0.0       Up             0  \n",
       "3              Y      1.5     Flat             1  \n",
       "4              N      0.0       Up             0  "
      ]
     },
     "execution_count": 9,
     "metadata": {},
     "output_type": "execute_result"
    }
   ],
   "source": [
    "heartDf.head()"
   ]
  },
  {
   "cell_type": "markdown",
   "id": "e8360e87",
   "metadata": {},
   "source": [
    "| Feature | Description |\n",
    "| :- | :- |\n",
    "| Age | age of the patient [years]\n",
    "| Sex | sex of the patient [M: Male, F: Female]\n",
    "| ChestPainType | chest pain type [TA: Typical Angina, ATA: Atypical Angina, NAP: Non-Anginal Pain, ASY: Asymptomatic]\n",
    "| RestingBP | resting blood pressure [mm Hg]\n",
    "| Cholesterol | serum cholesterol [mm/dl]\n",
    "| FastingBS | fasting blood sugar [1: if FastingBS > 120 mg/dl, 0: otherwise]\n",
    "| RestingECG | resting electrocardiogram results [Normal: Normal, ST: having ST-T wave abnormality (T wave inversions and/or ST elevation or depression of > 0.05 mV), LVH: showing probable or definite left ventricular hypertrophy by Estes' criteria]\n",
    "| MaxHR | maximum heart rate achieved [Numeric value between 60 and 202]\n",
    "| ExerciseAngina | exercise-induced angina [Y: Yes, N: No]\n",
    "| Oldpeak | oldpeak = ST [Numeric value measured in depression]\n",
    "| ST_Slope | the slope of the peak exercise ST segment [Up: upsloping, Flat: flat, Down: downsloping]\n",
    "| HeartDisease | output class [1: heart disease, 0: Normal]"
   ]
  },
  {
   "cell_type": "markdown",
   "id": "9a932fe3",
   "metadata": {},
   "source": [
    "## 4.  Data Preprocessing & Cleaning"
   ]
  },
  {
   "cell_type": "markdown",
   "id": "4542fdc2",
   "metadata": {},
   "source": [
    "### 4.1. Data Preprocessing"
   ]
  },
  {
   "cell_type": "markdown",
   "id": "e1bfc8a1",
   "metadata": {},
   "source": [
    "Since most of our categorical columns have limited number of options, we will encode our categorical data using manual integer encoding. This method will also help us handle the data coming from our HTML5 form. Moreover, encoding the columns manually can significantly boost the model performance."
   ]
  },
  {
   "cell_type": "code",
   "execution_count": 20,
   "id": "fa08da0b",
   "metadata": {},
   "outputs": [],
   "source": [
    "# Sex -> 0 Male, 1 Female \n",
    "\n",
    "heartDf.loc[heartDf['Sex'] == 'M', 'Sex'] = '0'\n",
    "heartDf.loc[heartDf['Sex'] == 'F', 'Sex'] = '1'\n",
    "\n",
    "heartDf[\"Sex\"] = heartDf[\"Sex\"].astype(str).astype(\"int64\")"
   ]
  },
  {
   "cell_type": "code",
   "execution_count": 22,
   "id": "faf3b592",
   "metadata": {},
   "outputs": [],
   "source": [
    "# Chest Pain Type -> 0 Typical Angine, 1 Atypical Angine, 2 Non-Anginal Pain, 3 Asyptomatic \n",
    "\n",
    "heartDf.loc[heartDf['ChestPainType'] == 'TA', 'ChestPainType'] = '0'\n",
    "heartDf.loc[heartDf['ChestPainType'] == 'ATA', 'ChestPainType'] = '1'\n",
    "heartDf.loc[heartDf['ChestPainType'] == 'NAP', 'ChestPainType'] = '2'\n",
    "heartDf.loc[heartDf['ChestPainType'] == 'ASY', 'ChestPainType'] = '3'\n",
    "\n",
    "heartDf[\"ChestPainType\"] = heartDf[\"ChestPainType\"].astype(str).astype(\"int64\")"
   ]
  },
  {
   "cell_type": "code",
   "execution_count": 23,
   "id": "d0bf2db8",
   "metadata": {},
   "outputs": [],
   "source": [
    "# Resting electrocardiogram results -> 0 Normal, 1 Having ST-T wave abnormality, \n",
    "# 2 Having left ventricular hypertrophy\n",
    "\n",
    "heartDf.loc[heartDf['RestingECG'] == 'Normal', 'RestingECG'] = '0'\n",
    "heartDf.loc[heartDf['RestingECG'] == 'ST', 'RestingECG'] = '1'\n",
    "heartDf.loc[heartDf['RestingECG'] == 'LVH', 'RestingECG'] = '2'\n",
    "\n",
    "heartDf[\"RestingECG\"] = heartDf[\"RestingECG\"].astype(str).astype(\"int64\")"
   ]
  },
  {
   "cell_type": "code",
   "execution_count": 24,
   "id": "bf51e71f",
   "metadata": {},
   "outputs": [],
   "source": [
    "# ExerciseAngina -> 0 No, 1 Yes\n",
    "\n",
    "heartDf.loc[heartDf['ExerciseAngina'] == 'N', 'ExerciseAngina'] = '0'\n",
    "heartDf.loc[heartDf['ExerciseAngina'] == 'Y', 'ExerciseAngina'] = '1'\n",
    "\n",
    "heartDf[\"ExerciseAngina\"] = heartDf[\"ExerciseAngina\"].astype(str).astype(\"int64\")"
   ]
  },
  {
   "cell_type": "code",
   "execution_count": 26,
   "id": "26881a09",
   "metadata": {},
   "outputs": [
    {
     "data": {
      "text/html": [
       "<div>\n",
       "<style scoped>\n",
       "    .dataframe tbody tr th:only-of-type {\n",
       "        vertical-align: middle;\n",
       "    }\n",
       "\n",
       "    .dataframe tbody tr th {\n",
       "        vertical-align: top;\n",
       "    }\n",
       "\n",
       "    .dataframe thead th {\n",
       "        text-align: right;\n",
       "    }\n",
       "</style>\n",
       "<table border=\"1\" class=\"dataframe\">\n",
       "  <thead>\n",
       "    <tr style=\"text-align: right;\">\n",
       "      <th></th>\n",
       "      <th>Age</th>\n",
       "      <th>Sex</th>\n",
       "      <th>ChestPainType</th>\n",
       "      <th>RestingBP</th>\n",
       "      <th>Cholesterol</th>\n",
       "      <th>FastingBS</th>\n",
       "      <th>RestingECG</th>\n",
       "      <th>MaxHR</th>\n",
       "      <th>ExerciseAngina</th>\n",
       "      <th>Oldpeak</th>\n",
       "      <th>ST_Slope</th>\n",
       "      <th>HeartDisease</th>\n",
       "    </tr>\n",
       "  </thead>\n",
       "  <tbody>\n",
       "    <tr>\n",
       "      <th>0</th>\n",
       "      <td>40</td>\n",
       "      <td>0</td>\n",
       "      <td>1</td>\n",
       "      <td>140</td>\n",
       "      <td>289</td>\n",
       "      <td>0</td>\n",
       "      <td>0</td>\n",
       "      <td>172</td>\n",
       "      <td>0</td>\n",
       "      <td>0.0</td>\n",
       "      <td>Up</td>\n",
       "      <td>0</td>\n",
       "    </tr>\n",
       "    <tr>\n",
       "      <th>1</th>\n",
       "      <td>49</td>\n",
       "      <td>1</td>\n",
       "      <td>2</td>\n",
       "      <td>160</td>\n",
       "      <td>180</td>\n",
       "      <td>0</td>\n",
       "      <td>0</td>\n",
       "      <td>156</td>\n",
       "      <td>0</td>\n",
       "      <td>1.0</td>\n",
       "      <td>Flat</td>\n",
       "      <td>1</td>\n",
       "    </tr>\n",
       "    <tr>\n",
       "      <th>2</th>\n",
       "      <td>37</td>\n",
       "      <td>0</td>\n",
       "      <td>1</td>\n",
       "      <td>130</td>\n",
       "      <td>283</td>\n",
       "      <td>0</td>\n",
       "      <td>1</td>\n",
       "      <td>98</td>\n",
       "      <td>0</td>\n",
       "      <td>0.0</td>\n",
       "      <td>Up</td>\n",
       "      <td>0</td>\n",
       "    </tr>\n",
       "    <tr>\n",
       "      <th>3</th>\n",
       "      <td>48</td>\n",
       "      <td>1</td>\n",
       "      <td>3</td>\n",
       "      <td>138</td>\n",
       "      <td>214</td>\n",
       "      <td>0</td>\n",
       "      <td>0</td>\n",
       "      <td>108</td>\n",
       "      <td>1</td>\n",
       "      <td>1.5</td>\n",
       "      <td>Flat</td>\n",
       "      <td>1</td>\n",
       "    </tr>\n",
       "    <tr>\n",
       "      <th>4</th>\n",
       "      <td>54</td>\n",
       "      <td>0</td>\n",
       "      <td>2</td>\n",
       "      <td>150</td>\n",
       "      <td>195</td>\n",
       "      <td>0</td>\n",
       "      <td>0</td>\n",
       "      <td>122</td>\n",
       "      <td>0</td>\n",
       "      <td>0.0</td>\n",
       "      <td>Up</td>\n",
       "      <td>0</td>\n",
       "    </tr>\n",
       "    <tr>\n",
       "      <th>...</th>\n",
       "      <td>...</td>\n",
       "      <td>...</td>\n",
       "      <td>...</td>\n",
       "      <td>...</td>\n",
       "      <td>...</td>\n",
       "      <td>...</td>\n",
       "      <td>...</td>\n",
       "      <td>...</td>\n",
       "      <td>...</td>\n",
       "      <td>...</td>\n",
       "      <td>...</td>\n",
       "      <td>...</td>\n",
       "    </tr>\n",
       "    <tr>\n",
       "      <th>913</th>\n",
       "      <td>45</td>\n",
       "      <td>0</td>\n",
       "      <td>0</td>\n",
       "      <td>110</td>\n",
       "      <td>264</td>\n",
       "      <td>0</td>\n",
       "      <td>0</td>\n",
       "      <td>132</td>\n",
       "      <td>0</td>\n",
       "      <td>1.2</td>\n",
       "      <td>Flat</td>\n",
       "      <td>1</td>\n",
       "    </tr>\n",
       "    <tr>\n",
       "      <th>914</th>\n",
       "      <td>68</td>\n",
       "      <td>0</td>\n",
       "      <td>3</td>\n",
       "      <td>144</td>\n",
       "      <td>193</td>\n",
       "      <td>1</td>\n",
       "      <td>0</td>\n",
       "      <td>141</td>\n",
       "      <td>0</td>\n",
       "      <td>3.4</td>\n",
       "      <td>Flat</td>\n",
       "      <td>1</td>\n",
       "    </tr>\n",
       "    <tr>\n",
       "      <th>915</th>\n",
       "      <td>57</td>\n",
       "      <td>0</td>\n",
       "      <td>3</td>\n",
       "      <td>130</td>\n",
       "      <td>131</td>\n",
       "      <td>0</td>\n",
       "      <td>0</td>\n",
       "      <td>115</td>\n",
       "      <td>1</td>\n",
       "      <td>1.2</td>\n",
       "      <td>Flat</td>\n",
       "      <td>1</td>\n",
       "    </tr>\n",
       "    <tr>\n",
       "      <th>916</th>\n",
       "      <td>57</td>\n",
       "      <td>1</td>\n",
       "      <td>1</td>\n",
       "      <td>130</td>\n",
       "      <td>236</td>\n",
       "      <td>0</td>\n",
       "      <td>2</td>\n",
       "      <td>174</td>\n",
       "      <td>0</td>\n",
       "      <td>0.0</td>\n",
       "      <td>Flat</td>\n",
       "      <td>1</td>\n",
       "    </tr>\n",
       "    <tr>\n",
       "      <th>917</th>\n",
       "      <td>38</td>\n",
       "      <td>0</td>\n",
       "      <td>2</td>\n",
       "      <td>138</td>\n",
       "      <td>175</td>\n",
       "      <td>0</td>\n",
       "      <td>0</td>\n",
       "      <td>173</td>\n",
       "      <td>0</td>\n",
       "      <td>0.0</td>\n",
       "      <td>Up</td>\n",
       "      <td>0</td>\n",
       "    </tr>\n",
       "  </tbody>\n",
       "</table>\n",
       "<p>918 rows × 12 columns</p>\n",
       "</div>"
      ],
      "text/plain": [
       "     Age  Sex  ChestPainType  RestingBP  Cholesterol  FastingBS  RestingECG  \\\n",
       "0     40    0              1        140          289          0           0   \n",
       "1     49    1              2        160          180          0           0   \n",
       "2     37    0              1        130          283          0           1   \n",
       "3     48    1              3        138          214          0           0   \n",
       "4     54    0              2        150          195          0           0   \n",
       "..   ...  ...            ...        ...          ...        ...         ...   \n",
       "913   45    0              0        110          264          0           0   \n",
       "914   68    0              3        144          193          1           0   \n",
       "915   57    0              3        130          131          0           0   \n",
       "916   57    1              1        130          236          0           2   \n",
       "917   38    0              2        138          175          0           0   \n",
       "\n",
       "     MaxHR  ExerciseAngina  Oldpeak ST_Slope  HeartDisease  \n",
       "0      172               0      0.0       Up             0  \n",
       "1      156               0      1.0     Flat             1  \n",
       "2       98               0      0.0       Up             0  \n",
       "3      108               1      1.5     Flat             1  \n",
       "4      122               0      0.0       Up             0  \n",
       "..     ...             ...      ...      ...           ...  \n",
       "913    132               0      1.2     Flat             1  \n",
       "914    141               0      3.4     Flat             1  \n",
       "915    115               1      1.2     Flat             1  \n",
       "916    174               0      0.0     Flat             1  \n",
       "917    173               0      0.0       Up             0  \n",
       "\n",
       "[918 rows x 12 columns]"
      ]
     },
     "execution_count": 26,
     "metadata": {},
     "output_type": "execute_result"
    }
   ],
   "source": [
    "heartDf"
   ]
  },
  {
   "cell_type": "code",
   "execution_count": 47,
   "id": "669930be",
   "metadata": {},
   "outputs": [],
   "source": [
    "# The slope of the peak exercise ST segment \n",
    "# 0 Upsloping, 1 Flat, 2 Downsloping \n",
    "\n",
    "heartDf.loc[heartDf['ST_Slope'] == 'Up', 'ST_Slope'] = '0'\n",
    "heartDf.loc[heartDf['ST_Slope'] == 'Flat', 'ST_Slope'] = '1'\n",
    "heartDf.loc[heartDf['ST_Slope'] == 'Down', 'ST_Slope'] = '2'\n",
    "\n",
    "heartDf[\"ST_Slope\"] = heartDf[\"ST_Slope\"].astype(\"float64\").astype(\"int64\")"
   ]
  },
  {
   "cell_type": "code",
   "execution_count": 49,
   "id": "af4159c2",
   "metadata": {},
   "outputs": [
    {
     "name": "stdout",
     "output_type": "stream",
     "text": [
      "<class 'pandas.core.frame.DataFrame'>\n",
      "RangeIndex: 918 entries, 0 to 917\n",
      "Data columns (total 12 columns):\n",
      " #   Column          Non-Null Count  Dtype  \n",
      "---  ------          --------------  -----  \n",
      " 0   Age             918 non-null    int64  \n",
      " 1   Sex             918 non-null    int64  \n",
      " 2   ChestPainType   918 non-null    int64  \n",
      " 3   RestingBP       918 non-null    int64  \n",
      " 4   Cholesterol     918 non-null    int64  \n",
      " 5   FastingBS       918 non-null    int64  \n",
      " 6   RestingECG      918 non-null    int64  \n",
      " 7   MaxHR           918 non-null    int64  \n",
      " 8   ExerciseAngina  918 non-null    int64  \n",
      " 9   Oldpeak         918 non-null    float64\n",
      " 10  ST_Slope        918 non-null    int64  \n",
      " 11  HeartDisease    918 non-null    int64  \n",
      "dtypes: float64(1), int64(11)\n",
      "memory usage: 86.2 KB\n"
     ]
    }
   ],
   "source": [
    "heartDf.info()"
   ]
  },
  {
   "cell_type": "markdown",
   "id": "35282291",
   "metadata": {},
   "source": [
    "### 4.2. Outliers Detection"
   ]
  },
  {
   "cell_type": "code",
   "execution_count": 60,
   "id": "d30deb88",
   "metadata": {},
   "outputs": [],
   "source": [
    "num_cols = [heartDf[\"Age\"],heartDf[\"RestingBP\"], heartDf[\"Cholesterol\"], \n",
    "            heartDf[\"FastingBS\"],heartDf[\"MaxHR\"],heartDf[\"Oldpeak\"]]"
   ]
  },
  {
   "cell_type": "code",
   "execution_count": 62,
   "id": "9a66a98e",
   "metadata": {},
   "outputs": [
    {
     "data": {
      "image/png": "[encoded data removed]",
      "text/plain": [
       "<Figure size 432x288 with 1 Axes>"
      ]
     },
     "metadata": {
      "needs_background": "light"
     },
     "output_type": "display_data"
    },
    {
     "data": {
      "image/png": "[encoded data removed]",
      "text/plain": [
       "<Figure size 432x288 with 1 Axes>"
      ]
     },
     "metadata": {
      "needs_background": "light"
     },
     "output_type": "display_data"
    },
    {
     "data": {
      "image/png": "[encoded data removed]",
      "text/plain": [
       "<Figure size 432x288 with 1 Axes>"
      ]
     },
     "metadata": {
      "needs_background": "light"
     },
     "output_type": "display_data"
    },
    {
     "data": {
      "image/png": "[encoded data removed]",
      "text/plain": [
       "<Figure size 432x288 with 1 Axes>"
      ]
     },
     "metadata": {
      "needs_background": "light"
     },
     "output_type": "display_data"
    },
    {
     "data": {
      "image/png": "[encoded data removed]",
      "text/plain": [
       "<Figure size 432x288 with 1 Axes>"
      ]
     },
     "metadata": {
      "needs_background": "light"
     },
     "output_type": "display_data"
    },
    {
     "data": {
      "image/png": "[encoded data removed]",
      "text/plain": [
       "<Figure size 432x288 with 1 Axes>"
      ]
     },
     "metadata": {
      "needs_background": "light"
     },
     "output_type": "display_data"
    }
   ],
   "source": [
    "for col in num_cols:\n",
    "    sns.histplot(x = col , data = heartDf , kde = True)\n",
    "    plt.show()"
   ]
  },
  {
   "cell_type": "markdown",
   "id": "f3f9013a",
   "metadata": {},
   "source": [
    "Observations: \n",
    "- Age and MaxHR almost follow the noraml distribution. \n",
    "- RestingBP is slightly Right Skewed."
   ]
  },
  {
   "cell_type": "code",
   "execution_count": 61,
   "id": "1698425d",
   "metadata": {},
   "outputs": [
    {
     "data": {
      "image/png": "[encoded data removed]",
      "text/plain": [
       "<Figure size 432x288 with 1 Axes>"
      ]
     },
     "metadata": {
      "needs_background": "light"
     },
     "output_type": "display_data"
    },
    {
     "data": {
      "image/png": "[encoded data removed]",
      "text/plain": [
       "<Figure size 432x288 with 1 Axes>"
      ]
     },
     "metadata": {
      "needs_background": "light"
     },
     "output_type": "display_data"
    },
    {
     "data": {
      "image/png": "[encoded data removed]",
      "text/plain": [
       "<Figure size 432x288 with 1 Axes>"
      ]
     },
     "metadata": {
      "needs_background": "light"
     },
     "output_type": "display_data"
    },
    {
     "data": {
      "image/png": "[encoded data removed]",
      "text/plain": [
       "<Figure size 432x288 with 1 Axes>"
      ]
     },
     "metadata": {
      "needs_background": "light"
     },
     "output_type": "display_data"
    },
    {
     "data": {
      "image/png": "[encoded data removed]",
      "text/plain": [
       "<Figure size 432x288 with 1 Axes>"
      ]
     },
     "metadata": {
      "needs_background": "light"
     },
     "output_type": "display_data"
    },
    {
     "data": {
      "image/png": "[encoded data removed]",
      "text/plain": [
       "<Figure size 432x288 with 1 Axes>"
      ]
     },
     "metadata": {
      "needs_background": "light"
     },
     "output_type": "display_data"
    }
   ],
   "source": [
    "# Checking for the Outlier in the dataset\n",
    "\n",
    "for col in num_cols:\n",
    "    sns.boxplot(y = col , data = heartDf)\n",
    "    plt.show()"
   ]
  },
  {
   "cell_type": "markdown",
   "id": "048853d0",
   "metadata": {},
   "source": [
    "Machine learning algorithms are sensitive to the range and distribution of attribute values. Data outliers can spoil and mislead the training process resulting in longer training times, less accurate models and ultimately poorer results.\n",
    "\n",
    "Columns with outliers are: \n",
    "- RestingBP \n",
    "- Cholesterol \n",
    "- MaxHR\n",
    "- OldPeak"
   ]
  },
  {
   "cell_type": "markdown",
   "id": "98687fba",
   "metadata": {},
   "source": [
    "### 4.3. Handling Outliers"
   ]
  },
  {
   "cell_type": "markdown",
   "id": "5aadb18d",
   "metadata": {},
   "source": [
    "We will handle the outliers in two different ways, one for the normally distributed features and the other for the rest attributes. "
   ]
  },
  {
   "cell_type": "markdown",
   "id": "900d2b83",
   "metadata": {},
   "source": [
    "#### 4.3.1. Normal Distributed Attributes"
   ]
  },
  {
   "cell_type": "markdown",
   "id": "fb6afa90",
   "metadata": {},
   "source": [
    "- Considering the value that are more than 3 standard deviation away from the mean as outlier.\n",
    "- Then replacing the outliers with the random number between the lower range and the upper range of the respective feature.\n",
    "- Lower range is the value which is exactly 3 standard deviation from the mean at the left side and upper range is the value which is exactly 3 standard deviation from the mean at the right side."
   ]
  },
  {
   "cell_type": "code",
   "execution_count": 68,
   "id": "74ca3807",
   "metadata": {},
   "outputs": [],
   "source": [
    "normal_cols = [\"Age\",\"MaxHR\",\"RestingBP\"]\n",
    "for col in normal_cols:\n",
    "    mean = np.mean(heartDf[col])\n",
    "    std = np.std(heartDf[col])\n",
    "    lower_range = mean - (3*std)\n",
    "    upper_range = mean + (3*std)\n",
    "    heartDf[col] = np.where(((heartDf[col] < lower_range) | (heartDf[col] > upper_range))\n",
    "                            ,random.randint(int(lower_range),int(upper_range)),heartDf[col])"
   ]
  },
  {
   "cell_type": "markdown",
   "id": "e3577dd3",
   "metadata": {},
   "source": [
    "#### 4.3.2. The Rest of the Attributes (The IQR meathod) "
   ]
  },
  {
   "cell_type": "markdown",
   "id": "6e00c620",
   "metadata": {},
   "source": [
    "- Handling Ouliers from Cholestrol feature by using the IQR meathod and replacing it by the random number between the lower bound and the upper bound.\n",
    "- lower bound is the lower whisker of boxplot and upper bound in the upper whisker of boxplot."
   ]
  },
  {
   "cell_type": "code",
   "execution_count": 71,
   "id": "01a8eb18",
   "metadata": {},
   "outputs": [],
   "source": [
    "IQR = np.percentile(heartDf[\"Cholesterol\"],75) - np.percentile(heartDf[\"Cholesterol\"],25)\n",
    "lower_bound = np.percentile(heartDf[\"Cholesterol\"],25) - 1.5 * IQR\n",
    "upper_bound = np.percentile(heartDf[\"Cholesterol\"],75) + 1.5 * IQR\n",
    "median_cholesterol = np.median(heartDf[\"Cholesterol\"])\n",
    "\n",
    "heartDf[\"Cholesterol\"] = np.where(((heartDf[\"Cholesterol\"] > upper_bound) | (heartDf[\"Cholesterol\"] < lower_bound)) \n",
    "                                 ,random.randint(int(np.percentile(heartDf[\"Cholesterol\"],25)),\n",
    "                                                 int(np.percentile(heartDf[\"Cholesterol\"],75))),heartDf[\"Cholesterol\"])"
   ]
  },
  {
   "cell_type": "markdown",
   "id": "6373a249",
   "metadata": {},
   "source": [
    "## 5.  Machine Learning Model"
   ]
  },
  {
   "cell_type": "markdown",
   "id": "f99b59b1",
   "metadata": {},
   "source": [
    "### 5.1. Splitting the Dataset"
   ]
  },
  {
   "cell_type": "code",
   "execution_count": 83,
   "id": "3c81caec",
   "metadata": {},
   "outputs": [],
   "source": [
    "X = heartDf.drop(\"HeartDisease\" , axis = 1)\n",
    "Y = heartDf['HeartDisease']"
   ]
  },
  {
   "cell_type": "code",
   "execution_count": 108,
   "id": "c1546625",
   "metadata": {},
   "outputs": [],
   "source": [
    "X_train, X_test, Y_train, Y_test = train_test_split(X, Y, test_size=0.3)"
   ]
  },
  {
   "cell_type": "markdown",
   "id": "a1fee6f6",
   "metadata": {},
   "source": [
    "### 5.2. Feature Scaling"
   ]
  },
  {
   "cell_type": "code",
   "execution_count": 109,
   "id": "9e2a6c8b",
   "metadata": {},
   "outputs": [],
   "source": [
    "scaler = StandardScaler()\n",
    "scaler.fit(X_train)\n",
    "X_train= scaler.transform(X_train)\n",
    "X_test = scaler.transform(X_test)"
   ]
  },
  {
   "cell_type": "markdown",
   "id": "c9a25da0",
   "metadata": {},
   "source": [
    "### 5.3. Building The Model"
   ]
  },
  {
   "cell_type": "markdown",
   "id": "57ab2f72",
   "metadata": {},
   "source": [
    "#### 5.3.1. K-Nearest Neighbors Algorithm"
   ]
  },
  {
   "cell_type": "code",
   "execution_count": 110,
   "id": "6f18e6fa",
   "metadata": {},
   "outputs": [
    {
     "data": {
      "text/plain": [
       "GridSearchCV(cv=5, estimator=KNeighborsClassifier(),\n",
       "             param_grid={'n_neighbors': array([ 1,  3,  5,  7,  9, 11, 13, 15, 17, 19, 21, 23, 25, 27, 29, 31, 33,\n",
       "       35, 37, 39, 41, 43, 45, 47, 49])})"
      ]
     },
     "execution_count": 110,
     "metadata": {},
     "output_type": "execute_result"
    }
   ],
   "source": [
    "from sklearn.model_selection import GridSearchCV\n",
    "knn = KNeighborsClassifier()\n",
    "param_grid = {\"n_neighbors\": np.arange(1,50,2)}\n",
    "knn_gscv = GridSearchCV(knn, param_grid, cv=5)\n",
    "knn_gscv.fit(X_train, Y_train)"
   ]
  },
  {
   "cell_type": "code",
   "execution_count": 120,
   "id": "4adeefea",
   "metadata": {},
   "outputs": [
    {
     "data": {
      "text/plain": [
       "{'n_neighbors': 11}"
      ]
     },
     "execution_count": 120,
     "metadata": {},
     "output_type": "execute_result"
    }
   ],
   "source": [
    "knn_gscv.best_params_"
   ]
  },
  {
   "cell_type": "markdown",
   "id": "4e045826",
   "metadata": {},
   "source": [
    "- Best K value is 11 according to the K-Fold Cross-Validation"
   ]
  },
  {
   "cell_type": "code",
   "execution_count": 119,
   "id": "6b4afea3",
   "metadata": {},
   "outputs": [
    {
     "name": "stdout",
     "output_type": "stream",
     "text": [
      "0.8876811594202898\n",
      "              precision    recall  f1-score   support\n",
      "\n",
      "           0       0.88      0.87      0.88       126\n",
      "           1       0.89      0.90      0.90       150\n",
      "\n",
      "    accuracy                           0.89       276\n",
      "   macro avg       0.89      0.89      0.89       276\n",
      "weighted avg       0.89      0.89      0.89       276\n",
      "\n",
      "[[110  16]\n",
      " [ 15 135]]\n"
     ]
    }
   ],
   "source": [
    "knn = KNeighborsClassifier(n_neighbors=11)\n",
    "knn.fit(X_train,Y_train)\n",
    "Y_pred = knn.predict(X_test)\n",
    "\n",
    "print(knn.score(X_test,Y_test))\n",
    "print(classification_report(Y_test,Y_pred))\n",
    "print(confusion_matrix(Y_test,Y_pred))"
   ]
  },
  {
   "cell_type": "code",
   "execution_count": 124,
   "id": "b9545210",
   "metadata": {},
   "outputs": [
    {
     "data": {
      "image/png": "[encoded data removed]",
      "text/plain": [
       "<Figure size 432x288 with 2 Axes>"
      ]
     },
     "metadata": {
      "needs_background": "light"
     },
     "output_type": "display_data"
    }
   ],
   "source": [
    "import seaborn as sns\n",
    "sns.heatmap(cm, annot=True);"
   ]
  },
  {
   "cell_type": "code",
   "execution_count": 125,
   "id": "cae81428",
   "metadata": {},
   "outputs": [
    {
     "data": {
      "image/png": "[encoded data removed]",
      "text/plain": [
       "<Figure size 432x288 with 2 Axes>"
      ]
     },
     "metadata": {
      "needs_background": "light"
     },
     "output_type": "display_data"
    }
   ],
   "source": [
    "labels = ['True Negative','False Positive','False Negative','True Positive']\n",
    "labels = np.asarray(labels).reshape(2,2)\n",
    "sns.heatmap(cm, annot=labels, fmt='', cmap='Blues');"
   ]
  },
  {
   "cell_type": "code",
   "execution_count": 122,
   "id": "7f4f60f6",
   "metadata": {},
   "outputs": [
    {
     "data": {
      "image/png": "[encoded data removed]",
      "text/plain": [
       "<Figure size 432x288 with 2 Axes>"
      ]
     },
     "metadata": {
      "needs_background": "light"
     },
     "output_type": "display_data"
    }
   ],
   "source": [
    "sns.heatmap(cm/np.sum(cm), annot=True, \n",
    "            fmt='.2%', cmap='Blues');"
   ]
  }
 ],
 "metadata": {
  "kernelspec": {
   "display_name": "Python 3",
   "language": "python",
   "name": "python3"
  },
  "language_info": {
   "codemirror_mode": {
    "name": "ipython",
    "version": 3
   },
   "file_extension": ".py",
   "mimetype": "text/x-python",
   "name": "python",
   "nbconvert_exporter": "python",
   "pygments_lexer": "ipython3",
   "version": "3.8.8"
  }
 },
 "nbformat": 4,
 "nbformat_minor": 5
}
